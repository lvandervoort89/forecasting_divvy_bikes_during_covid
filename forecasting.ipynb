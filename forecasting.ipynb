{
 "cells": [
  {
   "cell_type": "markdown",
   "metadata": {},
   "source": [
    "# Forecasting Divvy Bike Share Demand During Covid-19\n",
    "**Objective**   \n",
    "Forecast daily Divvy rideshare demand across all Chicago stations from September 1-December 31, 2020 using data from January 1, 2017-August 31, 2020  \n",
    "\n",
    "**Data**   \n",
    "This data was pull from the [City of Chicago](https://divvy-tripdata.s3.amazonaws.com/index.html) from January 1, 2017-August 31, 2020."
   ]
  },
  {
   "cell_type": "code",
   "execution_count": 1,
   "metadata": {
    "ExecuteTime": {
     "end_time": "2020-09-14T15:39:54.420549Z",
     "start_time": "2020-09-14T15:39:52.313159Z"
    }
   },
   "outputs": [
    {
     "name": "stderr",
     "output_type": "stream",
     "text": [
      "Importing plotly failed. Interactive plots will not work.\n"
     ]
    }
   ],
   "source": [
    "import pandas as pd\n",
    "from fbprophet import Prophet\n",
    "from fbprophet.diagnostics import cross_validation\n",
    "import pickle\n",
    "import datetime\n",
    "from sklearn import metrics\n",
    "import math\n",
    "from tqdm import tqdm\n",
    "from multiprocessing import Pool, cpu_count\n",
    "import numpy as np\n",
    "from fbprophet.diagnostics import performance_metrics\n",
    "from fbprophet.diagnostics import cross_validation\n",
    "from sklearn.preprocessing import MinMaxScaler\n",
    "from fbprophet.plot import plot_cross_validation_metric"
   ]
  },
  {
   "cell_type": "code",
   "execution_count": 2,
   "metadata": {
    "ExecuteTime": {
     "end_time": "2020-09-14T15:39:54.594034Z",
     "start_time": "2020-09-14T15:39:54.433984Z"
    }
   },
   "outputs": [],
   "source": [
    "# Load in dataframe\n",
    "df = pd.read_csv('daily_df_2017_to_2020.csv')"
   ]
  },
  {
   "cell_type": "code",
   "execution_count": 3,
   "metadata": {
    "ExecuteTime": {
     "end_time": "2020-09-14T15:39:54.622637Z",
     "start_time": "2020-09-14T15:39:54.615843Z"
    }
   },
   "outputs": [],
   "source": [
    "def is_covid(ds):\n",
    "    '''\n",
    "    A helper fucntion that takes in a date and returns a value of 0 or 1 if the\n",
    "    date is before or during Covid-19 (indicated by the initial date of Chicago's shut\n",
    "    down).\n",
    "\n",
    "    Parameters\n",
    "    ----------\n",
    "    date : The date of a Divvy bike ride.\n",
    "\n",
    "    Returns\n",
    "    -------\n",
    "    A 0 if the date took place before Covid-19 and a 1 if the ride took place during\n",
    "    Covid-19.\n",
    "    '''\n",
    "    date = pd.to_datetime(ds)\n",
    "    return date >= datetime.date(year=2020, month=3, day=17)\n",
    "\n",
    "\n",
    "def is_phase_one(ds):\n",
    "    '''\n",
    "    A helper fucntion that takes in a date and returns a value of 0 or 1 if the\n",
    "    date is during Chicago's Phase 1 Covid response (March 17-April 30, 2020).\n",
    "\n",
    "    Parameters\n",
    "    ----------\n",
    "    date : The date of a Divvy bike ride.\n",
    "\n",
    "    Returns\n",
    "    -------\n",
    "    False if the date did not take place during Phase 1 and True if the ride took place during\n",
    "    Phase 1.\n",
    "    '''\n",
    "    date = pd.to_datetime(ds)\n",
    "    return (date >= datetime.date(year=2020, month=3, day=17)) and (date <= datetime.date(year=2020, month=4, day=30))\n",
    "\n",
    "\n",
    "def is_phase_two(ds):\n",
    "    '''\n",
    "    A helper fucntion that takes in a date and returns a value of 0 or 1 if the\n",
    "    date is during Chicago's Phase 2 Covid response (May 1-June 2, 2020).\n",
    "\n",
    "    Parameters\n",
    "    ----------\n",
    "    date : The date of a Divvy bike ride.\n",
    "\n",
    "    Returns\n",
    "    -------\n",
    "    False if the date did not take place during Phase 2 and True if the ride took place during\n",
    "    Phase 2.\n",
    "    '''\n",
    "    date = pd.to_datetime(ds)\n",
    "    return (date >= datetime.date(year=2020, month=5, day=1)) and (date <= datetime.date(year=2020, month=6, day=2))\n",
    "\n",
    "\n",
    "def is_phase_three(ds):\n",
    "    '''\n",
    "    A helper fucntion that takes in a date and returns a value of 0 or 1 if the\n",
    "    date is during Chicago's Phase 3 Covid response (June 3-June 25, 2020).\n",
    "\n",
    "    Parameters\n",
    "    ----------\n",
    "    date : The date of a Divvy bike ride.\n",
    "\n",
    "    Returns\n",
    "    -------\n",
    "    False if the date did not take place during Phase 3 and True if the ride took place during\n",
    "    Phase 3.\n",
    "    '''\n",
    "    date = pd.to_datetime(ds)\n",
    "    return (date >= datetime.date(year=2020, month=6, day=3)) and (date <= datetime.date(year=2020, month=6, day=25))"
   ]
  },
  {
   "cell_type": "code",
   "execution_count": 4,
   "metadata": {
    "ExecuteTime": {
     "end_time": "2020-09-14T15:39:55.031360Z",
     "start_time": "2020-09-14T15:39:55.007806Z"
    }
   },
   "outputs": [],
   "source": [
    "# Rename columns to match requirement for Prophet\n",
    "df = df.rename(columns={'number_daily_rides': 'y', 'start_day_of_year': 'ds'})"
   ]
  },
  {
   "cell_type": "code",
   "execution_count": 5,
   "metadata": {
    "ExecuteTime": {
     "end_time": "2020-09-14T15:39:55.467166Z",
     "start_time": "2020-09-14T15:39:55.452469Z"
    }
   },
   "outputs": [],
   "source": [
    "# Drop all other columns\n",
    "df = df.drop(['from_station_id'], axis=1)"
   ]
  },
  {
   "cell_type": "code",
   "execution_count": 6,
   "metadata": {
    "ExecuteTime": {
     "end_time": "2020-09-14T15:46:47.299252Z",
     "start_time": "2020-09-14T15:39:56.044190Z"
    }
   },
   "outputs": [],
   "source": [
    "# Add columns for Covid seasonality\n",
    "df['covid'] = df['ds'].apply(is_covid)\n",
    "df['precovid'] = ~df['ds'].apply(is_covid)\n",
    "\n",
    "# Add columns for Phase 1 seasonality\n",
    "df['phase_one'] = df['ds'].apply(is_phase_one)\n",
    "df['not_phase_one'] = ~df['ds'].apply(is_phase_one)\n",
    "\n",
    "# Add columns for Phase 2 seasonality\n",
    "df['phase_two'] = df['ds'].apply(is_phase_two)\n",
    "df['not_phase_two'] = ~df['ds'].apply(is_phase_two)\n",
    "\n",
    "# Add columns for Phase 3 seasonality\n",
    "df['phase_three'] = df['ds'].apply(is_phase_three)\n",
    "df['not_phase_three'] = ~df['ds'].apply(is_phase_three)"
   ]
  },
  {
   "cell_type": "code",
   "execution_count": null,
   "metadata": {
    "ExecuteTime": {
     "start_time": "2020-09-13T03:00:06.866Z"
    }
   },
   "outputs": [],
   "source": [
    "# Final model with (pre/during covid and phases 1-3 of reopening)\n",
    "prophet = Prophet(daily_seasonality=False, weekly_seasonality=False, yearly_seasonality=False,\n",
    "                 seasonality_prior_scale=20, changepoint_prior_scale = 0.2)\n",
    "\n",
    "prophet.add_seasonality(name='covid', period=7, fourier_order=10, condition_name='covid')\n",
    "prophet.add_seasonality(name='precovid', period=7, fourier_order=3, condition_name='precovid')\n",
    "prophet.add_seasonality(name='phase_one', period=365.25, fourier_order=20, condition_name='phase_one')\n",
    "prophet.add_seasonality(name='not_phase_one', period=365.25, fourier_order=3, condition_name='not_phase_one')\n",
    "prophet.add_seasonality(name='phase_two', period=365.25, fourier_order=3, condition_name='phase_two')\n",
    "prophet.add_seasonality(name='not_phase_two', period=365.25, fourier_order=3, condition_name='not_phase_two')\n",
    "prophet.add_seasonality(name='phase_three', period=365.25, fourier_order=10, condition_name='phase_three')\n",
    "prophet.add_seasonality(name='not_phase_three', period=365.25, fourier_order=3, condition_name='not_phase_three')\n",
    "prophet.add_country_holidays(country_name='US')\n",
    "\n",
    "prophet.fit(df)\n",
    "\n",
    "future = prophet.make_future_dataframe(periods=122)\n",
    "future['covid'] = future['ds'].apply(is_covid)\n",
    "future['precovid'] = ~future['ds'].apply(is_covid)\n",
    "future['phase_one'] = future['ds'].apply(is_phase_one)\n",
    "future['not_phase_one'] = ~future['ds'].apply(is_phase_one)\n",
    "future['phase_two'] = future['ds'].apply(is_phase_two)\n",
    "future['not_phase_two'] = ~future['ds'].apply(is_phase_two)\n",
    "future['phase_three'] = future['ds'].apply(is_phase_three)\n",
    "future['not_phase_three'] = ~future['ds'].apply(is_phase_three)\n",
    "\n",
    "forecast = prophet.predict(future)"
   ]
  },
  {
   "cell_type": "code",
   "execution_count": null,
   "metadata": {
    "ExecuteTime": {
     "start_time": "2020-09-13T02:23:28.251Z"
    }
   },
   "outputs": [],
   "source": [
    "cv_results = cross_validation(prophet, initial = '730 days', period = '180 days', horizon = '122 days')"
   ]
  },
  {
   "cell_type": "code",
   "execution_count": null,
   "metadata": {
    "ExecuteTime": {
     "start_time": "2020-09-13T02:23:28.610Z"
    }
   },
   "outputs": [],
   "source": [
    "performance_results = performance_metrics(cv_results, metrics=['mae', 'rmse'])"
   ]
  },
  {
   "cell_type": "code",
   "execution_count": null,
   "metadata": {
    "ExecuteTime": {
     "start_time": "2020-09-13T02:23:28.979Z"
    }
   },
   "outputs": [],
   "source": [
    "print(\"Mean MAE:\", np.mean(performance_results.mae))\n",
    "print(\"Mean RMSE:\", np.mean(performance_results.rmse))"
   ]
  },
  {
   "cell_type": "code",
   "execution_count": null,
   "metadata": {
    "ExecuteTime": {
     "start_time": "2020-09-13T02:23:29.314Z"
    }
   },
   "outputs": [],
   "source": [
    "fig = prophet.plot(forecast)"
   ]
  },
  {
   "cell_type": "code",
   "execution_count": null,
   "metadata": {},
   "outputs": [],
   "source": []
  }
 ],
 "metadata": {
  "kernelspec": {
   "display_name": "Python 3",
   "language": "python",
   "name": "python3"
  },
  "language_info": {
   "codemirror_mode": {
    "name": "ipython",
    "version": 3
   },
   "file_extension": ".py",
   "mimetype": "text/x-python",
   "name": "python",
   "nbconvert_exporter": "python",
   "pygments_lexer": "ipython3",
   "version": "3.7.7"
  },
  "toc": {
   "base_numbering": 1,
   "nav_menu": {},
   "number_sections": true,
   "sideBar": true,
   "skip_h1_title": false,
   "title_cell": "Table of Contents",
   "title_sidebar": "Contents",
   "toc_cell": false,
   "toc_position": {},
   "toc_section_display": true,
   "toc_window_display": false
  },
  "varInspector": {
   "cols": {
    "lenName": 16,
    "lenType": 16,
    "lenVar": 40
   },
   "kernels_config": {
    "python": {
     "delete_cmd_postfix": "",
     "delete_cmd_prefix": "del ",
     "library": "var_list.py",
     "varRefreshCmd": "print(var_dic_list())"
    },
    "r": {
     "delete_cmd_postfix": ") ",
     "delete_cmd_prefix": "rm(",
     "library": "var_list.r",
     "varRefreshCmd": "cat(var_dic_list()) "
    }
   },
   "types_to_exclude": [
    "module",
    "function",
    "builtin_function_or_method",
    "instance",
    "_Feature"
   ],
   "window_display": false
  }
 },
 "nbformat": 4,
 "nbformat_minor": 4
}
